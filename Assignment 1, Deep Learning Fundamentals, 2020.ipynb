{
 "cells": [
  {
   "cell_type": "code",
   "execution_count": 319,
   "metadata": {},
   "outputs": [],
   "source": [
    "import matplotlib.pyplot as plt\n",
    "import numpy as np\n",
    "import pandas as pd\n",
    "\n",
    "class my_Perceptron:\n",
    "    def __init__(self, max_T=50, step_size=0.01):\n",
    "        self.max_T = max_T\n",
    "        self.step_size = step_size\n",
    "        \n",
    "\n",
    "    def fit(self, X, y):\n",
    "        self.w = np.ones(len(X.loc[0]))\n",
    "        self.b = 0\n",
    "        T=0\n",
    "        while T <= self.max_T:\n",
    "            for i in range(len(X)):\n",
    "                if y.iloc[i]* (np.inner(self.w, X.iloc[i])+self.b) < 0:\n",
    "                    self.w = self.w + self.step_size*y.iloc[i]*X.iloc[i]\n",
    "            \n",
    "            T += 1\n",
    "                \n",
    "    \n",
    "        \n",
    "    def predict(self, X) :\n",
    "        scores = np.inner(self.w, X)\n",
    "        return np.sign(scores)\n",
    "        "
   ]
  },
  {
   "cell_type": "code",
   "execution_count": 320,
   "metadata": {},
   "outputs": [
    {
     "name": "stdout",
     "output_type": "stream",
     "text": [
      "Training dataset: X_train= (576, 8) , y_train (576,)\n",
      "Testing dataset: X_test= (192, 8) , y_test (192,)\n"
     ]
    },
    {
     "name": "stderr",
     "output_type": "stream",
     "text": [
      "/Users/davi/python/anaconda3/lib/python3.7/site-packages/ipykernel_launcher.py:8: SettingWithCopyWarning: \n",
      "A value is trying to be set on a copy of a slice from a DataFrame\n",
      "\n",
      "See the caveats in the documentation: http://pandas.pydata.org/pandas-docs/stable/user_guide/indexing.html#returning-a-view-versus-a-copy\n",
      "  \n",
      "/Users/davi/python/anaconda3/lib/python3.7/site-packages/ipykernel_launcher.py:6: SettingWithCopyWarning: \n",
      "A value is trying to be set on a copy of a slice from a DataFrame\n",
      "\n",
      "See the caveats in the documentation: http://pandas.pydata.org/pandas-docs/stable/user_guide/indexing.html#returning-a-view-versus-a-copy\n",
      "  \n"
     ]
    }
   ],
   "source": [
    "df_ori = pd.read_csv('diabetes.csv')\n",
    "X=df_ori.loc[:,'Pregnancies':'Age']\n",
    "y=df_ori.Outcome\n",
    "for i in range(len(y)):\n",
    "    if y[i] == 0:\n",
    "        y[i] = 1\n",
    "    else:\n",
    "        y[i] = -1\n",
    "\n",
    "from sklearn.model_selection import train_test_split\n",
    "X_train, X_test, y_train, y_test = train_test_split(X, y, random_state=42)\n",
    "print('Training dataset: X_train=', X_train.shape, ', y_train', y_train.shape)\n",
    "print('Testing dataset: X_test=', X_test.shape, ', y_test', y_test.shape)"
   ]
  },
  {
   "cell_type": "code",
   "execution_count": 321,
   "metadata": {},
   "outputs": [
    {
     "data": {
      "text/plain": [
       "[<matplotlib.lines.Line2D at 0x7fda0817a850>]"
      ]
     },
     "execution_count": 321,
     "metadata": {},
     "output_type": "execute_result"
    },
    {
     "data": {
      "image/png": "[encoded data removed]",
      "text/plain": [
       "<Figure size 432x288 with 1 Axes>"
      ]
     },
     "metadata": {
      "needs_background": "light"
     },
     "output_type": "display_data"
    }
   ],
   "source": [
    "from sklearn.metrics import mean_squared_error\n",
    "RMSE_list=[]\n",
    "max_T=[30, 50, 70, 100, 200]\n",
    "for i in max_T:\n",
    "    p=my_Perceptron(max_T=i)\n",
    "    p.fit(X_train, y_train)\n",
    "    p_pred=p.predict(X_train)\n",
    "    RMSE=mean_squared_error(p_pred, y_train)\n",
    "    RMSE=np.sqrt(RMSE)\n",
    "    RMSE_list.append(RMSE)\n",
    "plt.plot(max_T, RMSE_list)"
   ]
  },
  {
   "cell_type": "code",
   "execution_count": 329,
   "metadata": {},
   "outputs": [
    {
     "data": {
      "text/plain": [
       "[<matplotlib.lines.Line2D at 0x7fda08340290>]"
      ]
     },
     "execution_count": 329,
     "metadata": {},
     "output_type": "execute_result"
    },
    {
     "data": {
      "image/png": "[encoded data removed]",
      "text/plain": [
       "<Figure size 432x288 with 1 Axes>"
      ]
     },
     "metadata": {
      "needs_background": "light"
     },
     "output_type": "display_data"
    }
   ],
   "source": [
    "from sklearn.metrics import mean_squared_error\n",
    "RMSE_list=[]\n",
    "step_size=[0.001, 0.01, 0.03, 0.05, 0.07, 0.1]\n",
    "for i in step_size:\n",
    "    p=my_Perceptron(step_size=i)\n",
    "    p.fit(X_train, y_train)\n",
    "    p_pred=p.predict(X_train)\n",
    "    RMSE=mean_squared_error(p_pred, y_train)\n",
    "    RMSE=np.sqrt(RMSE)\n",
    "    RMSE_list.append(RMSE)\n",
    "plt.plot(step_size, RMSE_list)"
   ]
  },
  {
   "cell_type": "code",
   "execution_count": 325,
   "metadata": {},
   "outputs": [],
   "source": [
    "p = my_Perceptron()\n",
    "p.fit(X_train, y_train)"
   ]
  },
  {
   "cell_type": "code",
   "execution_count": 326,
   "metadata": {},
   "outputs": [],
   "source": [
    "y_predict=p.predict(X_test)"
   ]
  },
  {
   "cell_type": "code",
   "execution_count": 328,
   "metadata": {},
   "outputs": [
    {
     "data": {
      "text/plain": [
       "0.7083333333333334"
      ]
     },
     "execution_count": 328,
     "metadata": {},
     "output_type": "execute_result"
    }
   ],
   "source": [
    "from sklearn.metrics import accuracy_score\n",
    "accuracy_score(y_test, y_predict)"
   ]
  },
  {
   "cell_type": "code",
   "execution_count": 331,
   "metadata": {},
   "outputs": [
    {
     "data": {
      "text/plain": [
       "0.9598606488849191"
      ]
     },
     "execution_count": 331,
     "metadata": {},
     "output_type": "execute_result"
    }
   ],
   "source": [
    "#evaluate the model performance\n",
    "baseline = np.mean(y)\n",
    "y_baseline = np.repeat(baseline, len(y_test))\n",
    "\n",
    "naive_RMSE = mean_squared_error(y_test, y_baseline)\n",
    "naive_RMSE = np.sqrt(naive_RMSE)\n",
    "naive_RMSE"
   ]
  },
  {
   "cell_type": "code",
   "execution_count": 332,
   "metadata": {},
   "outputs": [
    {
     "name": "stdout",
     "output_type": "stream",
     "text": [
      "1.130388330520878\n",
      "1.0801234497346435\n"
     ]
    }
   ],
   "source": [
    "y_train_pred = p.predict(X_train)\n",
    "RMSE_training = np.sqrt(mean_squared_error(y_train, y_train_pred))\n",
    "RMSE_testing = np.sqrt(mean_squared_error(y_test, y_predict))\n",
    "print(RMSE_training)\n",
    "print(RMSE_testing)"
   ]
  }
 ],
 "metadata": {
  "kernelspec": {
   "display_name": "Python 3",
   "language": "python",
   "name": "python3"
  },
  "language_info": {
   "codemirror_mode": {
    "name": "ipython",
    "version": 3
   },
   "file_extension": ".py",
   "mimetype": "text/x-python",
   "name": "python",
   "nbconvert_exporter": "python",
   "pygments_lexer": "ipython3",
   "version": "3.7.4"
  }
 },
 "nbformat": 4,
 "nbformat_minor": 2
}
